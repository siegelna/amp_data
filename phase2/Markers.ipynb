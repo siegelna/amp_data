{
 "cells": [
  {
   "cell_type": "code",
   "execution_count": 66,
   "metadata": {
    "vscode": {
     "languageId": "r"
    }
   },
   "outputs": [],
   "source": [
    "suppressPackageStartupMessages({\n",
    "    library(Seurat)\n",
    "    library(celldex)\n",
    "    library(dplyr)\n",
    "    library(SingleR)\n",
    "    library(openxlsx)\n",
    "    library(dplyr)\n",
    "})"
   ]
  },
  {
   "cell_type": "code",
   "execution_count": 67,
   "metadata": {
    "vscode": {
     "languageId": "r"
    }
   },
   "outputs": [],
   "source": [
    "load(file=file.path(\"objects\", \"02.rda\"))"
   ]
  },
  {
   "cell_type": "code",
   "execution_count": 68,
   "metadata": {
    "vscode": {
     "languageId": "r"
    }
   },
   "outputs": [],
   "source": [
    "library(Seurat)\n",
    "library(openxlsx)\n",
    "library(dplyr)\n",
    "\n",
    "# Function to clean and truncate sheet names if they are too long\n",
    "clean_sheetname <- function(name, max_length = 31) {\n",
    "    if (nchar(name) > max_length) {\n",
    "        name <- trimws(name)\n",
    "        name <- gsub(\"[^A-Za-z0-9]\", \"\", name)\n",
    "    }\n",
    "    return(name)\n",
    "}\n",
    "\n",
    "# Function to replace an existing sheet or create a new one\n",
    "replace_or_add_sheet <- function(wb, sheet_name) {\n",
    "  # Check if the sheet already exists\n",
    "  if (sheet_name %in% names(wb)) {\n",
    "    # Remove the existing sheet\n",
    "    removeWorksheet(wb, sheet = sheet_name)\n",
    "  }\n",
    "  # Add the new sheet\n",
    "  addWorksheet(wb, sheetName = sheet_name)\n",
    "}\n",
    "\n",
    "# Function to perform differential expression analysis and save results to Excel\n",
    "perform_DE_analysis <- function(seurat_obj, broad_types, condition_col, split_by, output_dir) {\n",
    "  # Ensure output directory exists\n",
    "  if (!dir.exists(output_dir)) {\n",
    "    dir.create(output_dir, recursive = TRUE)\n",
    "  }\n",
    "  \n",
    "  # Loop over each broad immune cell type\n",
    "  for (broad_type in broad_types) {\n",
    "    # Create a new workbook for each broad type\n",
    "    wb <- createWorkbook()\n",
    "    \n",
    "    # Subset the object for the current broad type\n",
    "    obj_subset <- subset(seurat_obj, broad.type == broad_type)\n",
    "    \n",
    "    # Get unique fine types for the current broad type\n",
    "    fine_types <- unique(obj_subset@meta.data$fine.type)\n",
    "    \n",
    "    # Split the object by fine type\n",
    "    SeuratObject_splitlist <- SplitObject(obj_subset, split.by = \"fine.type\")\n",
    "    \n",
    "    # Set identity to condition for each subset\n",
    "    SeuratObject_splitlist <- lapply(SeuratObject_splitlist, function(x) {\n",
    "      SetIdent(x, value = x@meta.data[[condition_col]])\n",
    "    })\n",
    "    \n",
    "    # Loop over each fine type\n",
    "    for (fine_type in fine_types) {\n",
    "      # Prepare and clean the sheet name\n",
    "      sheetname <- gsub(\"^\\\\s*\\\\d+\\\\.\\\\s*\", \"\", fine_type)\n",
    "      sheetname <- clean_sheetname(sheetname)\n",
    "    #   sheetname <- make.names(sheetname, unique = TRUE) # Ensure unique and valid sheet names\n",
    "\n",
    "      if (fine_type == \"7. IGHG+ IGL- Plasma\") sheetname <- paste(\"7. IGHG+ IGL- Plasma\", \"2\")\n",
    "      \n",
    "      # Replace or add the sheet for each fine type within the broad type\n",
    "      replace_or_add_sheet(wb, sheetname)\n",
    "      \n",
    "      # Run FindMarkers for the current fine type and handle errors\n",
    "      tryCatch({\n",
    "        cell_markers <- FindMarkers(SeuratObject_splitlist[[fine_type]], ident.1 = 'LN', ident.2 = 'Control', min.pct = 0.25, logfc.threshold = 0.25)\n",
    "        \n",
    "        # Filter significant results\n",
    "        # cell_markers <- cell_markers %>% filter(p_val_adj <= 0.01)\n",
    "        \n",
    "        if (nrow(cell_markers) == 0) {\n",
    "          cell_markers <- data.frame(Message = \"No significant markers found\")\n",
    "        }\n",
    "        \n",
    "        # Write the data to the corresponding sheet\n",
    "        writeData(wb, sheet = sheetname, x = cell_markers, rowNames = TRUE)\n",
    "        \n",
    "      }, error = function(e) {\n",
    "        # Handle errors by writing the error message\n",
    "        error_message <- paste(\"Error:\", e$message)\n",
    "        writeData(wb, sheet = sheetname, x = data.frame(Message = error_message), rowNames = FALSE)\n",
    "      })\n",
    "    }\n",
    "    \n",
    "    # Save the workbook to a file named after the broad type\n",
    "    filename <- paste(\"AMP_II_SLE\", gsub(\" \", \"_\", broad_type), \"Markers.xlsx\", sep = \"_\")\n",
    "    saveWorkbook(wb, file = file.path(output_dir, filename), overwrite = TRUE)\n",
    "  }\n",
    "}\n",
    "\n",
    "# Example usage:\n",
    "# Set parameters\n",
    "seurat_obj <- obj # Your Seurat object\n",
    "broad_types <- c('T Cell', 'NK Cell', 'Plasma Cell', 'B Cell', 'Myeloid Cell')\n",
    "condition_col <- 'Type' # Metadata column representing conditions\n",
    "split_by <- 'Type' # Metadata column to split by\n",
    "output_dir <- \"Markers/Test\"\n",
    "\n",
    "# Call the function\n",
    "perform_DE_analysis(seurat_obj, broad_types, condition_col, split_by, output_dir)"
   ]
  },
  {
   "cell_type": "code",
   "execution_count": 69,
   "metadata": {
    "vscode": {
     "languageId": "r"
    }
   },
   "outputs": [],
   "source": [
    "# Immune cells\n",
    "seurat_obj <- obj # Your Seurat object\n",
    "broad_types <- c('T Cell', 'NK Cell', 'Plasma Cell', 'B Cell', 'Myeloid Cell')\n",
    "condition_col <- 'Type' # Metadata column representing conditions\n",
    "split_by <- 'Type' # Metadata column to split by\n",
    "output_dir <- \"Markers/Immune\"\n",
    "\n",
    "# Call the function\n",
    "perform_DE_analysis(seurat_obj, broad_types, condition_col, split_by, output_dir)"
   ]
  },
  {
   "cell_type": "code",
   "execution_count": 70,
   "metadata": {
    "vscode": {
     "languageId": "r"
    }
   },
   "outputs": [],
   "source": [
    "# Structural cells\n",
    "seurat_obj <- obj \n",
    "broad_types <- setdiff(unique(obj@meta.data$broad.type), broad_types)\n",
    "condition_col <- 'Type' \n",
    "output_dir <- \"Markers/Structural\"\n",
    "\n",
    "perform_DE_analysis(seurat_obj, broad_types, condition_col, split_by, output_dir)"
   ]
  }
 ],
 "metadata": {
  "kernelspec": {
   "display_name": "R",
   "language": "R",
   "name": "ir"
  },
  "language_info": {
   "codemirror_mode": "r",
   "file_extension": ".r",
   "mimetype": "text/x-r-source",
   "name": "R",
   "pygments_lexer": "r",
   "version": "4.3.3"
  }
 },
 "nbformat": 4,
 "nbformat_minor": 2
}
