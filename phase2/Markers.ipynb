{
 "cells": [
  {
   "cell_type": "code",
   "execution_count": 8,
   "metadata": {
    "vscode": {
     "languageId": "r"
    }
   },
   "outputs": [],
   "source": [
    "suppressPackageStartupMessages({\n",
    "    library(Seurat)\n",
    "    library(celldex)\n",
    "    library(dplyr)\n",
    "    library(SingleR)\n",
    "    library(openxlsx)\n",
    "    library(dplyr)\n",
    "})"
   ]
  },
  {
   "cell_type": "code",
   "execution_count": 4,
   "metadata": {
    "vscode": {
     "languageId": "r"
    }
   },
   "outputs": [],
   "source": [
    "load(file=file.path(\"objects\", \"02.rda\"))"
   ]
  },
  {
   "cell_type": "code",
   "execution_count": 5,
   "metadata": {
    "vscode": {
     "languageId": "r"
    }
   },
   "outputs": [],
   "source": [
    "# Function to clean and truncate sheet names if they are too long\n",
    "clean_sheetname <- function(name, max_length = 31) {\n",
    "    if (nchar(name) > max_length) {\n",
    "        name <- trimws(name)\n",
    "        name <- gsub(\"[^A-Za-z0-9]\", \"\", name)\n",
    "    }\n",
    "    return(name)\n",
    "}"
   ]
  },
  {
   "cell_type": "code",
   "execution_count": 6,
   "metadata": {
    "vscode": {
     "languageId": "r"
    }
   },
   "outputs": [],
   "source": [
    "# Set the identifier for cell types\n",
    "obj <- SetIdent(obj, value = \"fine.type\")\n",
    "\n",
    "# Define the broad immune cell types you are interested in\n",
    "immune <- c('T Cell', 'NK Cell', 'Plasma Cell', 'B Cell', 'Myeloid Cell')\n",
    "\n",
    "# Loop over each broad immune cell type\n",
    "for (broad_type in immune) {\n",
    "    # Create a new workbook for each broad type\n",
    "    \n",
    "    wb <- createWorkbook()\n",
    "    \n",
    "    # Subset the object for the current broad type\n",
    "    obj_subset <- subset(obj, broad.type == broad_type)\n",
    "    \n",
    "    # Get unique fine types for the current broad type\n",
    "    fine_types <- unique(obj_subset@meta.data$fine.type)\n",
    "    \n",
    "    # Loop over each fine type\n",
    "    for (fine_type in fine_types) {\n",
    "        # Prepare and possibly clean the sheet name\n",
    "        sheetname <- gsub(\"^\\\\s*\\\\d+\\\\.\\\\s*\", \"\", fine_type)\n",
    "        sheetname <- clean_sheetname(sheetname)\n",
    "\n",
    "        if (fine_type == \"7. IGHG+ IGL- Plasma\") sheetname <- paste(\"7. IGHG+ IGL- Plasma\", \"2\")\n",
    "        \n",
    "        # Add a new sheet for each fine type within the broad type\n",
    "        addWorksheet(wb, sheetName = sheetname)\n",
    "\n",
    "        # Run FindMarkers for the current fine type\n",
    "        cell_markers <- FindMarkers(obj_subset, ident.1 = fine_type) %>% filter(0.01 >= p_val_adj)\n",
    "\n",
    "        # Write the data to the corresponding sheet\n",
    "        writeData(wb, sheet = sheetname, x = cell_markers, rowNames = TRUE)\n",
    "    }\n",
    "    \n",
    "    # Save the workbook to a file named after the broad type\n",
    "    filename <- paste(\"AMP_II_SLE\", gsub(\" \", \"_\", broad_type), \"Markers.xlsx\", sep = \"_\")\n",
    "    saveWorkbook(wb, file = file.path(\"Markers\", \"Immune\", filename), overwrite = TRUE)\n",
    "}\n"
   ]
  },
  {
   "cell_type": "code",
   "execution_count": 16,
   "metadata": {
    "vscode": {
     "languageId": "r"
    }
   },
   "outputs": [],
   "source": [
    "# Set the identifier for cell types\n",
    "obj <- SetIdent(obj, value = \"fine.type\")\n",
    "\n",
    "# Define the broad structural cell types you are interested in\n",
    "structural <- setdiff(unique(obj@meta.data$broad.type), immune)\n",
    "structural <- structural[-3] # GLOM is only one cell type\n",
    "\n",
    "for (broad_type in structural) {\n",
    "    # Create a new workbook for each broad type\n",
    "    \n",
    "    wb <- createWorkbook()\n",
    "    \n",
    "    # Subset the object for the current broad type\n",
    "    obj_subset <- subset(obj, broad.type == broad_type)\n",
    "    \n",
    "    # Get unique fine types for the current broad type\n",
    "    fine_types <- unique(obj_subset@meta.data$fine.type)\n",
    "    \n",
    "    # Loop over each fine type\n",
    "    for (fine_type in fine_types) {\n",
    "        # Prepare and possibly clean the sheet name\n",
    "        sheetname <- gsub(\"^\\\\s*\\\\d+\\\\.\\\\s*\", \"\", fine_type)\n",
    "        sheetname <- clean_sheetname(sheetname)\n",
    "\n",
    "        # Add a new sheet for each fine type within the broad type\n",
    "        addWorksheet(wb, sheetName = sheetname)\n",
    "\n",
    "        # Run FindMarkers for the current fine type\n",
    "        cell_markers <- FindMarkers(obj_subset, ident.1 = fine_type) %>% filter(0.01 >= p_val_adj)\n",
    "\n",
    "        # Write the data to the corresponding sheet\n",
    "        writeData(wb, sheet = sheetname, x = cell_markers, rowNames = TRUE)\n",
    "    }\n",
    "    \n",
    "    # Save the workbook to a file named after the broad type\n",
    "    filename <- paste(\"AMP_II_SLE\", gsub(\" \", \"_\", broad_type), \"Markers.xlsx\", sep = \"_\")\n",
    "    saveWorkbook(wb, file = file.path(\"Markers\", \"Structural\", filename), overwrite = TRUE)\n",
    "}"
   ]
  },
  {
   "cell_type": "code",
   "execution_count": 6,
   "metadata": {
    "vscode": {
     "languageId": "r"
    }
   },
   "outputs": [],
   "source": [
    "immune <- c('T Cell', 'NK Cell', 'Plasma Cell', 'B Cell', 'Myeloid Cell')"
   ]
  },
  {
   "cell_type": "code",
   "execution_count": 9,
   "metadata": {
    "vscode": {
     "languageId": "r"
    }
   },
   "outputs": [],
   "source": [
    "structural <- setdiff(unique(obj@meta.data$broad.type), immune)\n",
    "structural_cells <- subset(obj, broad.type %in% structural)\n",
    "structural_cells <- SetIdent(structural_cells, value = \"broad.type\")\n",
    "cell_markers <- FindMarkers(structural_cells, ident.1 = \"GLOM\") %>% filter(0.01 >= p_val_adj)\n",
    "\n",
    "wb <- createWorkbook()\n",
    "addWorksheet(wb, sheetName = 'GLOM')\n",
    "writeData(wb, sheet = 'GLOM', x = cell_markers, rowNames = TRUE)\n",
    "filename <- \"AMP_II_SLE_GLOM_Markers.xlsx\"\n",
    "saveWorkbook(wb, file = file.path(\"Markers\", \"Structural\", filename), overwrite = TRUE)"
   ]
  }
 ],
 "metadata": {
  "kernelspec": {
   "display_name": "R",
   "language": "R",
   "name": "ir"
  },
  "language_info": {
   "codemirror_mode": "r",
   "file_extension": ".r",
   "mimetype": "text/x-r-source",
   "name": "R",
   "pygments_lexer": "r",
   "version": "4.3.3"
  }
 },
 "nbformat": 4,
 "nbformat_minor": 2
}
