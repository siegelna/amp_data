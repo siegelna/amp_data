{
 "cells": [
  {
   "cell_type": "code",
   "execution_count": 1,
   "metadata": {
    "vscode": {
     "languageId": "r"
    }
   },
   "outputs": [],
   "source": [
    "suppressPackageStartupMessages({\n",
    "    library(Seurat)\n",
    "    library(celldex)\n",
    "    library(ShinyCell)\n",
    "    library(dplyr)\n",
    "    library(SingleR)\n",
    "    library(dplyr)\n",
    "})"
   ]
  },
  {
   "cell_type": "code",
   "execution_count": null,
   "metadata": {
    "vscode": {
     "languageId": "r"
    }
   },
   "outputs": [],
   "source": [
    "counts <- readRDS(\"data/2023-04-05_rawCounts_Sc_QCed.rds\")\n",
    "metadata <- readRDS(\"data/2023-04-05_metaData_Sc_QCed.rds\")\n",
    "\n",
    "obj <- CreateSeuratObject(counts = counts, meta.data = metadata, min.cells = 3, min.features = 300)\n",
    "obj\n",
    "save(obj, file = \"objects/00_raw.rda\")"
   ]
  },
  {
   "cell_type": "code",
   "execution_count": null,
   "metadata": {
    "vscode": {
     "languageId": "r"
    }
   },
   "outputs": [],
   "source": [
    "# QC\n",
    "obj[[\"percent.mt\"]] <- PercentageFeatureSet(object = obj, pattern = \"^MT-\")\n",
    "obj\n",
    "save(obj, file = file.path(\"objects\", \"01.rda\"))"
   ]
  },
  {
   "cell_type": "code",
   "execution_count": null,
   "metadata": {
    "vscode": {
     "languageId": "r"
    }
   },
   "outputs": [],
   "source": [
    "# Normalization\n",
    "obj <- SCTransform(obj, ncells = 3000,  variable.features.n = 2000, vst.flavor=\"v2\", method = 'glmGamPoi', conserve.memory = TRUE)\n",
    "save(obj, file=file.path(\"objects\", \"02.rda\"))"
   ]
  },
  {
   "cell_type": "markdown",
   "metadata": {},
   "source": []
  },
  {
   "cell_type": "code",
   "execution_count": 4,
   "metadata": {
    "vscode": {
     "languageId": "r"
    }
   },
   "outputs": [
    {
     "name": "stderr",
     "output_type": "stream",
     "text": [
      "PC_ 1 \n",
      "Positive:  ALDOB, MT1G, GPX3, MT1H, UMOD, MIOX, GATM, GSTA1, FABP1, PCK1 \n",
      "\t   UGT2B7, HPD, CUBN, MT1X, NAT8, PDZK1IP1, BHMT, LRP2, GSTA2, ASS1 \n",
      "\t   FXYD2, APOE, MT1F, AK4, SLC16A9, PAH, SLC5A12, ACY1, ACSM2B, AGMAT \n",
      "Negative:  LYZ, TYROBP, C1QA, C1QB, FCER1G, AIF1, HLA-DRA, S100A9, C1QC, HLA-DPA1 \n",
      "\t   TMSB4X, CTSS, S100A4, HLA-DPB1, LST1, FCN1, HLA-DRB1, S100A8, SRGN, IGFBP5 \n",
      "\t   RNASE1, MS4A7, CD74, FABP5, LGALS1, CD14, VIM, FCGR3A, IFI27, MGP \n",
      "PC_ 2 \n",
      "Positive:  ALDOB, MT1G, GPX3, FTL, MT1H, MIOX, APOE, GATM, LYZ, TYROBP \n",
      "\t   C1QA, C1QB, GSTA1, FABP1, UGT2B7, FCER1G, AIF1, HPD, CUBN, PDZK1IP1 \n",
      "\t   NAT8, MT1X, C1QC, PCK1, S100A9, LRP2, BHMT, HLA-DRA, ASS1, HLA-DPA1 \n",
      "Negative:  UMOD, SLC12A1, DEFB1, KNG1, TMEM52B, WFDC2, SLC12A3, CALB1, AQP2, SFRP1 \n",
      "\t   S100A2, ATP1B1, ATP1A1, CLDN16, FXYD4, EGF, IGFBP7, SERPINA5, MALAT1, S100A6 \n",
      "\t   MAL, CKB, CLDN10, DUSP9, MUC1, CA12, KCNJ1, WNK1, SPINK1, HSD11B2 \n",
      "PC_ 3 \n",
      "Positive:  UMOD, LYZ, TYROBP, C1QA, C1QB, FCER1G, SLC12A1, AIF1, S100A9, C1QC \n",
      "\t   CTSS, FCN1, LST1, S100A8, DEFB1, MS4A7, KNG1, FCGR3A, HLA-DRA, CD14 \n",
      "\t   IFI30, FTL, APOC1, HLA-DPA1, FABP5, HLA-DPB1, MS4A6A, ITGB2, CD163, MNDA \n",
      "Negative:  IGFBP5, MGP, TAGLN, RGS5, TIMP3, A2M, ACTA2, SPARCL1, EMCN, IFI27 \n",
      "\t   SLC9A3R2, MYH11, TPM2, RERGL, PODXL, RNASE1, C11orf96, PLAT, TM4SF1, MYL9 \n",
      "\t   DCN, SPARC, RAMP2, CLDN5, ENG, PTPRB, ADIRF, PECAM1, MEIS2, EPAS1 \n",
      "PC_ 4 \n",
      "Positive:  AQP2, FXYD4, CALB1, AQP3, SPINK1, STC1, SLC12A3, WFDC2, RHCG, PTGER1 \n",
      "\t   KRT19, SLC26A7, MMP7, HSD11B2, KLK1, SLPI, ATP6V1G3, SLC8A1, CLU, SLC4A1 \n",
      "\t   NKG7, IGKC, GATA3, HMGCS2, SCNN1G, EPCAM, GNLY, CCL5, ATP6V0D2, TMEM213 \n",
      "Negative:  UMOD, SLC12A1, ALDOB, TAGLN, RGS5, GPX3, MGP, A2M, KNG1, TIMP3 \n",
      "\t   RNASE1, MT1G, ACTA2, IGFBP5, IFI27, MYH11, ADIRF, EMCN, FN1, RERGL \n",
      "\t   TPM2, FTL, CXCL12, SLC9A3R2, SPARCL1, C1QA, C11orf96, CLDN16, MIOX, GSTA1 \n",
      "PC_ 5 \n",
      "Positive:  IGFBP5, RNASE1, EMCN, PLAT, PLVAP, PTPRB, PECAM1, SLC9A3R2, FLT1, ENG \n",
      "\t   TIMP3, RAMP3, RAMP2, CCL14, IFI27, PODXL, DNASE1L3, SOX18, A2M, CRHBP \n",
      "\t   EGFL7, SLCO2A1, ADGRL4, VWF, CD74, CD34, FCN3, KDR, MEIS2, TGFBR2 \n",
      "Negative:  TAGLN, ACTA2, RGS5, MYH11, RERGL, TPM2, C11orf96, PLN, MYL9, ADIRF \n",
      "\t   CRIP1, MUSTN1, MGP, PLAC9, DCN, CARMN, IGFBP6, SOD3, CFD, NDUFA4L2 \n",
      "\t   CALD1, MFGE8, FRZB, BGN, LGALS1, MCAM, VIM, SPARCL1, COL1A2, PDGFRB \n",
      "\n",
      "Warning message:\n",
      "“The default method for RunUMAP has changed from calling Python UMAP via reticulate to the R-native UWOT using the cosine metric\n",
      "To use Python UMAP via reticulate, set umap.method to 'umap-learn' and metric to 'correlation'\n",
      "This message will be shown once per session”\n",
      "16:02:18 UMAP embedding parameters a = 0.9922 b = 1.112\n",
      "\n",
      "Found more than one class \"dist\" in cache; using the first, from namespace 'spam'\n",
      "\n",
      "Also defined by ‘BiocGenerics’\n",
      "\n",
      "16:02:18 Read 547796 rows and found 20 numeric columns\n",
      "\n",
      "16:02:18 Using Annoy for neighbor search, n_neighbors = 30\n",
      "\n",
      "Found more than one class \"dist\" in cache; using the first, from namespace 'spam'\n",
      "\n",
      "Also defined by ‘BiocGenerics’\n",
      "\n",
      "16:02:18 Building Annoy index with metric = cosine, n_trees = 50\n",
      "\n",
      "0%   10   20   30   40   50   60   70   80   90   100%\n",
      "\n",
      "[----|----|----|----|----|----|----|----|----|----|\n",
      "\n",
      "*\n",
      "*\n",
      "*\n",
      "*\n",
      "*\n",
      "*\n",
      "*\n",
      "*\n",
      "*\n",
      "*\n",
      "*\n",
      "*\n",
      "*\n",
      "*\n",
      "*\n",
      "*\n",
      "*\n",
      "*\n",
      "*\n",
      "*\n",
      "*\n",
      "*\n",
      "*\n",
      "*\n",
      "*\n",
      "*\n",
      "*\n",
      "*\n",
      "*\n",
      "*\n",
      "*\n",
      "*\n",
      "*\n",
      "*\n",
      "*\n",
      "*\n",
      "*\n",
      "*\n",
      "*\n",
      "*\n",
      "*\n",
      "*\n",
      "*\n",
      "*\n",
      "*\n",
      "*\n",
      "*\n",
      "*\n",
      "*\n",
      "*\n",
      "|\n",
      "\n",
      "16:02:58 Writing NN index file to temp file /tmp/Rtmpuz1BUl/file20f73332894d6d\n",
      "\n",
      "16:02:58 Searching Annoy index using 1 thread, search_k = 3000\n",
      "\n",
      "16:06:20 Annoy recall = 100%\n",
      "\n",
      "16:06:22 Commencing smooth kNN distance calibration using 1 thread\n",
      " with target n_neighbors = 30\n",
      "\n",
      "16:06:43 Initializing from normalized Laplacian + noise (using RSpectra)\n",
      "\n",
      "16:10:02 Commencing optimization for 200 epochs, with 23410886 positive edges\n",
      "\n",
      "16:14:44 Optimization finished\n",
      "\n",
      "Computing nearest neighbor graph\n",
      "\n",
      "Computing SNN\n",
      "\n"
     ]
    },
    {
     "name": "stdout",
     "output_type": "stream",
     "text": [
      "Modularity Optimizer version 1.3.0 by Ludo Waltman and Nees Jan van Eck\n",
      "\n",
      "Number of nodes: 547796\n",
      "Number of edges: 17707089\n",
      "\n",
      "Running Louvain algorithm...\n",
      "Maximum modularity in 10 random starts: 0.9534\n",
      "Number of communities: 29\n",
      "Elapsed time: 763 seconds\n"
     ]
    }
   ],
   "source": [
    "obj <- RunPCA(obj, npcs = 30, verbose = TRUE)\n",
    "obj <- RunUMAP(obj, reduction = \"pca\", dims = 1:20)\n",
    "obj <- FindNeighbors(obj, reduction = \"pca\", dims = 1:20)\n",
    "obj <- FindClusters(obj, resolution = 0.5)\n",
    "save(obj, file=file.path(\"objects\", \"03.rda\"))"
   ]
  },
  {
   "cell_type": "code",
   "execution_count": 5,
   "metadata": {
    "vscode": {
     "languageId": "r"
    }
   },
   "outputs": [
    {
     "name": "stderr",
     "output_type": "stream",
     "text": [
      "see ?celldex and browseVignettes('celldex') for documentation\n",
      "\n",
      "loading from cache\n",
      "\n",
      "see ?celldex and browseVignettes('celldex') for documentation\n",
      "\n",
      "loading from cache\n",
      "\n",
      "see ?celldex and browseVignettes('celldex') for documentation\n",
      "\n",
      "loading from cache\n",
      "\n",
      "see ?celldex and browseVignettes('celldex') for documentation\n",
      "\n",
      "loading from cache\n",
      "\n"
     ]
    }
   ],
   "source": [
    "# Load annotation\n",
    "monaco.ref <- celldex::MonacoImmuneData()\n",
    "blueprint.ref <- celldex::BlueprintEncodeData()"
   ]
  },
  {
   "cell_type": "code",
   "execution_count": 6,
   "metadata": {
    "vscode": {
     "languageId": "r"
    }
   },
   "outputs": [],
   "source": [
    "# Blueprint annnotation\n",
    "sce <- LayerData(obj)\n",
    "blueprint.main <- SingleR(test = sce, assay.type.test = 1, ref = blueprint.ref, labels = blueprint.ref$label.main)\n",
    "obj@meta.data$blueprint.main <- blueprint.main$pruned.labels\n",
    "save(obj, file=file.path(\"objects\", \"04.rda\"))"
   ]
  },
  {
   "cell_type": "code",
   "execution_count": 7,
   "metadata": {
    "vscode": {
     "languageId": "r"
    }
   },
   "outputs": [],
   "source": [
    "# Monaco annontation\n",
    "sce <- LayerData(obj)\n",
    "monaco.fine <- SingleR(test = sce, assay.type.test = 1, ref = monaco.ref, labels = monaco.ref$label.fine)\n",
    "obj@meta.data$monaco.fine <- monaco.fine$pruned.labels\n",
    "save(obj, file=file.path('objects', '05.rda'))"
   ]
  },
  {
   "cell_type": "code",
   "execution_count": 8,
   "metadata": {
    "vscode": {
     "languageId": "r"
    }
   },
   "outputs": [],
   "source": [
    "# Update metadata\n",
    "obj@meta.data$Stim <- obj@meta.data$Type\n",
    "obj@meta.data$Tissue_Type <- obj@meta.data$broad.group\n",
    "obj@meta.data$Fine_Cell_Type <- obj@meta.data$fine.type\n",
    "obj@meta.data$Broad_Cell_Type <- obj@meta.data$broad.type\n",
    "save(obj, file=file.path('objects', '06.rda'))"
   ]
  },
  {
   "cell_type": "markdown",
   "metadata": {},
   "source": [
    "## Process Individual Cell Types"
   ]
  },
  {
   "cell_type": "code",
   "execution_count": 1,
   "metadata": {
    "vscode": {
     "languageId": "r"
    }
   },
   "outputs": [],
   "source": [
    "load(file=file.path(\"objects\", \"02.rda\"))"
   ]
  },
  {
   "cell_type": "code",
   "execution_count": null,
   "metadata": {
    "vscode": {
     "languageId": "r"
    }
   },
   "outputs": [],
   "source": [
    "source(\"R/process.R\")"
   ]
  },
  {
   "cell_type": "code",
   "execution_count": null,
   "metadata": {
    "vscode": {
     "languageId": "r"
    }
   },
   "outputs": [],
   "source": [
    "### Write shiny files\n",
    "\n",
    "#bcell\n",
    "seu =  get(load(file = \"objects/BCellmonaco05.rda\"))\n",
    "colnames(seu@meta.data)[10] <- \"monaco.fine\"\n",
    "scConf1 = createConfig(seu)\n",
    "makeShinyFiles(seu, scConf1,\n",
    "             gene.mapping = TRUE,\n",
    "             shiny.prefix = \"sc1\",\n",
    "             shiny.dir = \"amp2_sle_scRNAseq_immune/\",\n",
    "             gex.assay = \"SCT\")\n",
    "\n",
    "#myeloid\n",
    "seu =  get(load(file = \"objects/MyeloidCellmonaco05.rda\"))\n",
    "colnames(seu@meta.data)[10] <- \"monaco.fine\"\n",
    "scConf2 = createConfig(seu)\n",
    "makeShinyFiles(seu, scConf2,\n",
    "             gene.mapping = TRUE,\n",
    "             shiny.prefix = \"sc2\",\n",
    "             shiny.dir = \"amp2_sle_scRNAseq_immune/\",\n",
    "             gex.assay = \"SCT\")\n",
    "\n",
    "#nk\n",
    "seu =  get(load(file = \"objects/NKCellmonaco05.rda\"))\n",
    "colnames(seu@meta.data)[10] <- \"monaco.fine\"\n",
    "scConf3 = createConfig(seu)\n",
    "makeShinyFiles(seu, scConf3,\n",
    "             gene.mapping = TRUE,\n",
    "             shiny.prefix = \"sc3\",\n",
    "             shiny.dir = \"amp2_sle_scRNAseq_immune/\",\n",
    "             gex.assay = \"SCT\")\n",
    "\n",
    "#plasma\n",
    "seu =  get(load(file = \"objects/PlasmaCellmonaco05.rda\"))\n",
    "colnames(seu@meta.data)[10] <- \"monaco.fine\"\n",
    "scConf4 = createConfig(seu)\n",
    "makeShinyFiles(seu, scConf4,\n",
    "             gene.mapping = TRUE,\n",
    "             shiny.prefix = \"sc4\",\n",
    "             shiny.dir = \"amp2_sle_scRNAseq_immune/\",\n",
    "             gex.assay = \"SCT\")\n",
    "\n",
    "#tcell\n",
    "seu =  get(load(file = \"objects/TCellmonaco05.rda\"))\n",
    "colnames(seu@meta.data)[10] <- \"monaco.fine\"\n",
    "scConf5 = createConfig(seu)\n",
    "makeShinyFiles(seu, scConf5,\n",
    "             gene.mapping = TRUE,\n",
    "             shiny.prefix = \"sc5\",\n",
    "             shiny.dir = \"amp2_sle_scRNAseq_immune/\",\n",
    "             gex.assay = \"SCT\")\n",
    "\n",
    "# All\n",
    "seu =  get(load(file = \"objects/06.rda\"))\n",
    "seu <- SetIdent(seu, value = \"Broad_Cell_Type\")\n",
    "cells <-  c('T Cell', 'NK Cell', 'Plasma Cell', 'B Cell', 'Myeloid Cell')\n",
    "seu <- subset(seu, Broad_Cell_Type  %in%  cells)\n",
    "\n",
    "# Rename\n",
    "seu@meta.data$Stim <- seu@meta.data$Type\n",
    "seu@meta.data$Tissue_Type <- seu@meta.data$broad.group\n",
    "seu@meta.data$Fine_Cell_Type <- seu@meta.data$fine.type\n",
    "seu@meta.data$Broad_Cell_Type <- seu@meta.data$broad.type\n",
    "\n",
    "columns_to_keep <-  c('orig.ident', 'nCount_RNA', 'nFeature_RNA', 'Stim', 'Tissue_Type',\n",
    " 'Fine_Cell_Type', 'Broad_Cell_Type', 'monaco.fine')\n",
    "seu@meta.data <- seu@meta.data[, columns_to_keep, drop = FALSE]\n",
    "\n",
    "# Recluster\n",
    "seu <- RunPCA(seu, npcs = 30, verbose = TRUE)\n",
    "seu <- RunUMAP(seu, reduction = \"pca\", dims = 1:20)\n",
    "seu <- FindNeighbors(seu, reduction = \"pca\", dims = 1:20)\n",
    "seu <- FindClusters(seu, resolution = 0.5)\n",
    "\n",
    "scConf6 = createConfig(seu, maxLevels = 60)\n",
    "makeShinyFiles(seu, scConf6,\n",
    "             gene.mapping = TRUE,\n",
    "             shiny.prefix = \"sc6\",\n",
    "             shiny.dir = \"amp2_sle_scRNAseq_immune/\",\n",
    "             gex.assay = \"SCT\")\n",
    "\n",
    "makeShinyCodesMulti(\n",
    "  shiny.title = \"AMP Phase II SLE, Immune Cells\", shiny.footnotes = NULL,\n",
    "  shiny.prefix = c(\"sc1\", \"sc2\", \"sc3\", \"sc4\", \"sc5\", \"sc6\"),\n",
    "  shiny.headers = c(\"B Cell\", \"Myeloid\", \"NK\", \"Plasma Cell\", \"T Cell\", \"All Cells\"), \n",
    "  shiny.dir = \"amp2_sle_scRNAseq_immune/\") "
   ]
  },
  {
   "cell_type": "code",
   "execution_count": 3,
   "metadata": {
    "vscode": {
     "languageId": "r"
    }
   },
   "outputs": [],
   "source": [
    "system(\"R -e \\\"shiny::runApp('amp2_sle_scRNAseq_immune')\\\"\")"
   ]
  },
  {
   "cell_type": "code",
   "execution_count": null,
   "metadata": {
    "vscode": {
     "languageId": "r"
    }
   },
   "outputs": [],
   "source": [
    "# ### Write shiny files\n",
    "\n",
    "# #dn\n",
    "# seu =  get(load(file = \"objects/DNblueprint05.rda\"))\n",
    "# colnames(seu@meta.data)[10] <- \"blueprint.main\"\n",
    "# scConf1 = createConfig(seu)\n",
    "# makeShinyFiles(seu, scConf1,\n",
    "#              gene.mapping = TRUE,\n",
    "#              shiny.prefix = \"sc1\",\n",
    "#              shiny.dir = \"amp2_sle_scRNAseq_kidney/\",\n",
    "#              gex.assay = \"SCT\")\n",
    "\n",
    "# #glom\n",
    "# seu =  get(load(file = \"objects/GLOMblueprint05.rda\"))\n",
    "# colnames(seu@meta.data)[10] <- \"blueprint.main\"\n",
    "# scConf2 = createConfig(seu)\n",
    "# makeShinyFiles(seu, scConf2,\n",
    "#              gene.mapping = TRUE,\n",
    "#              shiny.prefix = \"sc2\",\n",
    "#              shiny.dir = \"amp2_sle_scRNAseq_kidney/\",\n",
    "#              gex.assay = \"SCT\")\n",
    "\n",
    "# #intl\n",
    "# seu =  get(load(file = \"objects/INTLblueprint05.rda\"))\n",
    "# colnames(seu@meta.data)[10] <- \"blueprint.main\"\n",
    "# scConf3 = createConfig(seu)\n",
    "# makeShinyFiles(seu, scConf3,\n",
    "#              gene.mapping = TRUE,\n",
    "#              shiny.prefix = \"sc3\",\n",
    "#              shiny.dir = \"amp2_sle_scRNAseq_kidney/\",\n",
    "#              gex.assay = \"SCT\")\n",
    "\n",
    "# #loh\n",
    "# seu =  get(load(file = \"objects/LOHblueprint05.rda\"))\n",
    "# colnames(seu@meta.data)[10] <- \"blueprint.main\"\n",
    "# scConf4 = createConfig(seu)\n",
    "# makeShinyFiles(seu, scConf4,\n",
    "#              gene.mapping = TRUE,\n",
    "#              shiny.prefix = \"sc4\",\n",
    "#              shiny.dir = \"amp2_sle_scRNAseq_kidney/\",\n",
    "#              gex.assay = \"SCT\")\n",
    "\n",
    "# #und   \n",
    "# seu =  get(load(file = \"objects/UNDblueprint05.rda\"))\n",
    "# colnames(seu@meta.data)[10] <- \"blueprint.main\"\n",
    "# scConf5 = createConfig(seu)\n",
    "# makeShinyFiles(seu, scConf5,\n",
    "#              gene.mapping = TRUE,\n",
    "#              shiny.prefix = \"sc11\",\n",
    "#              shiny.dir = \"amp2_sle_scRNAseq_kidney/\",\n",
    "#              gex.assay = \"SCT\")\n",
    "\n",
    "# #pt\n",
    "# seu =  get(load(file = \"objects/PTblueprint05.rda\"))\n",
    "# colnames(seu@meta.data)[10] <- \"blueprint.main\"\n",
    "# scConf6 = createConfig(seu)\n",
    "# makeShinyFiles(seu, scConf6,\n",
    "#              gene.mapping = TRUE,\n",
    "#              shiny.prefix = \"sc6\",\n",
    "#              shiny.dir = \"amp2_sle_scRNAseq_kidney/\",\n",
    "#              gex.assay = \"SCT\")\n",
    "\n",
    "# All\n",
    "seu =  get(load(file = \"objects/06.rda\"))\n",
    "seu <- SetIdent(seu, value = \"Broad_Cell_Type\")\n",
    "cells <-  c('PT', 'INTL', 'GLOM', 'DN', 'LOH', 'UND')\n",
    "seu <- subset(seu, Broad_Cell_Type  %in%  cells)\n",
    "\n",
    "# Rename\n",
    "seu@meta.data$Stim <- seu@meta.data$Type\n",
    "seu@meta.data$Tissue_Type <- seu@meta.data$broad.group\n",
    "seu@meta.data$Fine_Cell_Type <- seu@meta.data$fine.type\n",
    "seu@meta.data$Broad_Cell_Type <- seu@meta.data$broad.type\n",
    "\n",
    "columns_to_keep <-  c('orig.ident', 'nCount_RNA', 'nFeature_RNA', 'Stim', 'Tissue_Type',\n",
    " 'Fine_Cell_Type', 'Broad_Cell_Type', 'blueprint.main')\n",
    "seu@meta.data <- seu@meta.data[, columns_to_keep, drop = FALSE]\n",
    "\n",
    "# Recluster\n",
    "seu <- RunPCA(seu, npcs = 30, verbose = TRUE)\n",
    "seu <- RunUMAP(seu, reduction = \"pca\", dims = 1:20)\n",
    "seu <- FindNeighbors(seu, reduction = \"pca\", dims = 1:20)\n",
    "seu <- FindClusters(seu, resolution = 0.5)\n",
    "\n",
    "scConf7 = createConfig(seu)\n",
    "makeShinyFiles(seu, scConf7,\n",
    "             gene.mapping = TRUE,\n",
    "             shiny.prefix = \"sc7\",\n",
    "             shiny.dir = \"amp2_sle_scRNAseq_kidney/\",\n",
    "             gex.assay = \"SCT\")\n",
    "\n",
    "makeShinyCodesMulti(\n",
    "  shiny.title = \"AMP Phase II SLE, Structural Cells\", shiny.footnotes = NULL,\n",
    "  shiny.prefix = c(\"sc1\", \"sc2\", \"sc3\", \"sc4\", \"sc5\", \"sc6\", \"sc7\"),\n",
    "  shiny.headers = c(\"Distal Nephron (DN)\", \"Glomerulus (GLOM)\", \"Interstitial (INTL)\", \"Loop of Henle (LOH)\",\n",
    "   \"Undetermined (UND)\", \"Proximal Tube (PT)\", \"All Cells\"), \n",
    "  shiny.dir = \"amp2_sle_scRNAseq_kidney/\") "
   ]
  },
  {
   "cell_type": "code",
   "execution_count": 4,
   "metadata": {
    "vscode": {
     "languageId": "r"
    }
   },
   "outputs": [],
   "source": [
    "system(\"R -e \\\"shiny::runApp('amp2_sle_scRNAseq_kidney')\\\"\")"
   ]
  }
 ],
 "metadata": {
  "kernelspec": {
   "display_name": "R",
   "language": "R",
   "name": "ir"
  },
  "language_info": {
   "codemirror_mode": "r",
   "file_extension": ".r",
   "mimetype": "text/x-r-source",
   "name": "R",
   "pygments_lexer": "r",
   "version": "4.3.3"
  }
 },
 "nbformat": 4,
 "nbformat_minor": 2
}
