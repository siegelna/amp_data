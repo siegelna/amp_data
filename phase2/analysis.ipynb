{
 "cells": [
  {
   "cell_type": "code",
   "execution_count": 1,
   "metadata": {
    "vscode": {
     "languageId": "r"
    }
   },
   "outputs": [],
   "source": [
    "suppressPackageStartupMessages({\n",
    "    library(Seurat)\n",
    "    library(celldex)\n",
    "    library(ShinyCell)\n",
    "    library(dplyr)\n",
    "    library(SingleR)\n",
    "    library(dplyr)\n",
    "})"
   ]
  },
  {
   "cell_type": "code",
   "execution_count": null,
   "metadata": {
    "vscode": {
     "languageId": "r"
    }
   },
   "outputs": [],
   "source": [
    "counts <- readRDS(\"data/2023-04-05_rawCounts_Sc_QCed.rds\")\n",
    "metadata <- readRDS(\"data/2023-04-05_metaData_Sc_QCed.rds\")\n",
    "\n",
    "obj <- CreateSeuratObject(counts = counts, meta.data = metadata, min.cells = 3, min.features = 300)\n",
    "obj\n",
    "save(obj, file = \"objects/00.rda\")"
   ]
  },
  {
   "cell_type": "code",
   "execution_count": null,
   "metadata": {
    "vscode": {
     "languageId": "r"
    }
   },
   "outputs": [],
   "source": [
    "# QC\n",
    "obj[[\"percent.mt\"]] <- PercentageFeatureSet(object = obj, pattern = \"^MT-\")\n",
    "obj\n",
    "save(obj, file = file.path(\"objects\", \"01.rda\"))"
   ]
  },
  {
   "cell_type": "code",
   "execution_count": null,
   "metadata": {
    "vscode": {
     "languageId": "r"
    }
   },
   "outputs": [],
   "source": [
    "# Normalization\n",
    "obj <- SCTransform(obj, ncells = 3000,  variable.features.n = 2000, vst.flavor=\"v2\", method = 'glmGamPoi', conserve.memory = FALSE)\n",
    "save(obj, file=file.path(\"objects\", \"02.rda\"))"
   ]
  },
  {
   "cell_type": "code",
   "execution_count": null,
   "metadata": {
    "vscode": {
     "languageId": "r"
    }
   },
   "outputs": [],
   "source": [
    "# obj <- RunPCA(obj, npcs = 30, verbose = TRUE)\n",
    "# obj <- RunUMAP(obj, reduction = \"pca\", dims = 1:20)\n",
    "# obj <- FindNeighbors(obj, reduction = \"pca\", dims = 1:20)\n",
    "# obj <- FindClusters(obj, resolution = 0.5)\n",
    "# save(obj, file=file.path(\"objects\", \"03.rda\"))"
   ]
  },
  {
   "cell_type": "code",
   "execution_count": null,
   "metadata": {
    "vscode": {
     "languageId": "r"
    }
   },
   "outputs": [],
   "source": [
    "# Load annotation\n",
    "monaco.ref <- celldex::MonacoImmuneData()\n",
    "blueprint.ref <- celldex::BlueprintEncodeData()"
   ]
  },
  {
   "cell_type": "code",
   "execution_count": 6,
   "metadata": {
    "vscode": {
     "languageId": "r"
    }
   },
   "outputs": [],
   "source": [
    "# Blueprint annnotation\n",
    "sce <- LayerData(obj)\n",
    "blueprint.main <- SingleR(test = sce, assay.type.test = 1, ref = blueprint.ref, labels = blueprint.ref$label.main)\n",
    "obj@meta.data$blueprint.main <- blueprint.main$pruned.labels\n",
    "save(obj, file=file.path(\"objects\", \"04.rda\"))"
   ]
  },
  {
   "cell_type": "code",
   "execution_count": 7,
   "metadata": {
    "vscode": {
     "languageId": "r"
    }
   },
   "outputs": [],
   "source": [
    "# Monaco annontation\n",
    "sce <- LayerData(obj)\n",
    "monaco.fine <- SingleR(test = sce, assay.type.test = 1, ref = monaco.ref, labels = monaco.ref$label.fine)\n",
    "obj@meta.data$monaco.fine <- monaco.fine$pruned.labels\n",
    "save(obj, file=file.path('objects', '05.rda'))"
   ]
  },
  {
   "cell_type": "code",
   "execution_count": 8,
   "metadata": {
    "vscode": {
     "languageId": "r"
    }
   },
   "outputs": [],
   "source": [
    "# Update metadata\n",
    "obj@meta.data$Stim <- obj@meta.data$Type\n",
    "obj@meta.data$Tissue_Type <- obj@meta.data$broad.group\n",
    "obj@meta.data$Fine_Cell_Type <- obj@meta.data$fine.type\n",
    "obj@meta.data$Broad_Cell_Type <- obj@meta.data$broad.type\n",
    "obj@meta.data$Donor <- gsub(\"AMPSLEkid_cells\", \"Donor\",  obj@meta.data$sample)\n",
    "save(obj, file=file.path('objects', '06.rda'))"
   ]
  },
  {
   "cell_type": "markdown",
   "metadata": {},
   "source": [
    "## Process Individual Cell Types"
   ]
  },
  {
   "cell_type": "code",
   "execution_count": 1,
   "metadata": {
    "vscode": {
     "languageId": "r"
    }
   },
   "outputs": [],
   "source": [
    "# load(file=file.path(\"objects\", \"02.rda\"))"
   ]
  },
  {
   "cell_type": "code",
   "execution_count": null,
   "metadata": {
    "vscode": {
     "languageId": "r"
    }
   },
   "outputs": [],
   "source": [
    "source(\"R/process.R\")"
   ]
  },
  {
   "cell_type": "code",
   "execution_count": null,
   "metadata": {
    "vscode": {
     "languageId": "r"
    }
   },
   "outputs": [],
   "source": [
    "### Write shiny files\n",
    "\n",
    "#bcell\n",
    "seu =  get(load(file = \"objects/BCellmonaco05.rda\"))\n",
    "colnames(seu@meta.data)[10] <- \"monaco.fine\"\n",
    "scConf1 = createConfig(seu)\n",
    "makeShinyFiles(seu, scConf1,\n",
    "             gene.mapping = TRUE,\n",
    "             shiny.prefix = \"sc1\",\n",
    "             shiny.dir = \"amp2_sle_scRNAseq_immune/\",\n",
    "             gex.assay = \"SCT\")\n",
    "\n",
    "#myeloid\n",
    "seu =  get(load(file = \"objects/MyeloidCellmonaco05.rda\"))\n",
    "colnames(seu@meta.data)[10] <- \"monaco.fine\"\n",
    "scConf2 = createConfig(seu)\n",
    "makeShinyFiles(seu, scConf2,\n",
    "             gene.mapping = TRUE,\n",
    "             shiny.prefix = \"sc2\",\n",
    "             shiny.dir = \"amp2_sle_scRNAseq_immune/\",\n",
    "             gex.assay = \"SCT\")\n",
    "\n",
    "#nk\n",
    "seu =  get(load(file = \"objects/NKCellmonaco05.rda\"))\n",
    "colnames(seu@meta.data)[10] <- \"monaco.fine\"\n",
    "scConf3 = createConfig(seu)\n",
    "makeShinyFiles(seu, scConf3,\n",
    "             gene.mapping = TRUE,\n",
    "             shiny.prefix = \"sc3\",\n",
    "             shiny.dir = \"amp2_sle_scRNAseq_immune/\",\n",
    "             gex.assay = \"SCT\")\n",
    "\n",
    "#plasma\n",
    "seu =  get(load(file = \"objects/PlasmaCellmonaco05.rda\"))\n",
    "colnames(seu@meta.data)[10] <- \"monaco.fine\"\n",
    "scConf4 = createConfig(seu)\n",
    "makeShinyFiles(seu, scConf4,\n",
    "             gene.mapping = TRUE,\n",
    "             shiny.prefix = \"sc4\",\n",
    "             shiny.dir = \"amp2_sle_scRNAseq_immune/\",\n",
    "             gex.assay = \"SCT\")\n",
    "\n",
    "#tcell\n",
    "seu =  get(load(file = \"objects/TCellmonaco05.rda\"))\n",
    "colnames(seu@meta.data)[10] <- \"monaco.fine\"\n",
    "scConf5 = createConfig(seu)\n",
    "makeShinyFiles(seu, scConf5,\n",
    "             gene.mapping = TRUE,\n",
    "             shiny.prefix = \"sc5\",\n",
    "             shiny.dir = \"amp2_sle_scRNAseq_immune/\",\n",
    "             gex.assay = \"SCT\")\n",
    "\n",
    "# All\n",
    "seu =  get(load(file = \"objects/06.rda\"))\n",
    "seu <- SetIdent(seu, value = \"Broad_Cell_Type\")\n",
    "cells <-  c('T Cell', 'NK Cell', 'Plasma Cell', 'B Cell', 'Myeloid Cell')\n",
    "seu <- subset(seu, Broad_Cell_Type  %in%  cells)\n",
    "\n",
    "# Rename\n",
    "seu@meta.data$Stim <- seu@meta.data$Type\n",
    "seu@meta.data$Tissue_Type <- seu@meta.data$broad.group\n",
    "seu@meta.data$Fine_Cell_Type <- seu@meta.data$fine.type\n",
    "seu@meta.data$Broad_Cell_Type <- seu@meta.data$broad.type\n",
    "seu@meta.data$Donor <- gsub(\"AMPSLEkid_cells\", \"Donor\",  obj@meta.data$sample)\n",
    "\n",
    "columns_to_keep <-  c('orig.ident', 'nCount_RNA', 'nFeature_RNA', 'Donor', 'Stim', 'Tissue_Type',\n",
    " 'Fine_Cell_Type', 'Broad_Cell_Type', 'monaco.fine')\n",
    "seu@meta.data <- seu@meta.data[, columns_to_keep, drop = FALSE]\n",
    "\n",
    "# Recluster\n",
    "seu <- RunPCA(seu, npcs = 30, verbose = TRUE)\n",
    "seu <- RunUMAP(seu, reduction = \"pca\", dims = 1:20)\n",
    "seu <- FindNeighbors(seu, reduction = \"pca\", dims = 1:20)\n",
    "seu <- FindClusters(seu, resolution = 0.5)\n",
    "\n",
    "scConf6 = createConfig(seu, maxLevels = 60)\n",
    "makeShinyFiles(seu, scConf6,\n",
    "             gene.mapping = TRUE,\n",
    "             shiny.prefix = \"sc6\",\n",
    "             shiny.dir = \"amp2_sle_scRNAseq_immune/\",\n",
    "             gex.assay = \"SCT\")\n",
    "\n",
    "makeShinyCodesMulti(\n",
    "  shiny.title = \"AMP Phase II SLE, Immune Cells\", shiny.footnotes = NULL,\n",
    "  shiny.prefix = c(\"sc1\", \"sc2\", \"sc3\", \"sc4\", \"sc5\", \"sc6\"),\n",
    "  shiny.headers = c(\"B Cell\", \"Myeloid\", \"NK\", \"Plasma Cell\", \"T Cell\", \"All Cells\"), \n",
    "  shiny.dir = \"amp2_sle_scRNAseq_immune/\") "
   ]
  },
  {
   "cell_type": "code",
   "execution_count": 3,
   "metadata": {
    "vscode": {
     "languageId": "r"
    }
   },
   "outputs": [],
   "source": [
    "# system(\"R -e \\\"shiny::runApp('amp2_sle_scRNAseq_immune')\\\"\")"
   ]
  },
  {
   "cell_type": "code",
   "execution_count": null,
   "metadata": {
    "vscode": {
     "languageId": "r"
    }
   },
   "outputs": [],
   "source": [
    "### Write shiny files\n",
    "\n",
    "#dn\n",
    "seu =  get(load(file = \"objects/DNblueprint05.rda\"))\n",
    "colnames(seu@meta.data)[10] <- \"blueprint.main\"\n",
    "scConf1 = createConfig(seu)\n",
    "makeShinyFiles(seu, scConf1,\n",
    "             gene.mapping = TRUE,\n",
    "             shiny.prefix = \"sc1\",\n",
    "             shiny.dir = \"amp2_sle_scRNAseq_kidney/\",\n",
    "             gex.assay = \"SCT\")\n",
    "\n",
    "#glom\n",
    "seu =  get(load(file = \"objects/GLOMblueprint05.rda\"))\n",
    "colnames(seu@meta.data)[10] <- \"blueprint.main\"\n",
    "scConf2 = createConfig(seu)\n",
    "makeShinyFiles(seu, scConf2,\n",
    "             gene.mapping = TRUE,\n",
    "             shiny.prefix = \"sc2\",\n",
    "             shiny.dir = \"amp2_sle_scRNAseq_kidney/\",\n",
    "             gex.assay = \"SCT\")\n",
    "\n",
    "#intl\n",
    "seu =  get(load(file = \"objects/INTLblueprint05.rda\"))\n",
    "colnames(seu@meta.data)[10] <- \"blueprint.main\"\n",
    "scConf3 = createConfig(seu)\n",
    "makeShinyFiles(seu, scConf3,\n",
    "             gene.mapping = TRUE,\n",
    "             shiny.prefix = \"sc3\",\n",
    "             shiny.dir = \"amp2_sle_scRNAseq_kidney/\",\n",
    "             gex.assay = \"SCT\")\n",
    "\n",
    "#loh\n",
    "seu =  get(load(file = \"objects/LOHblueprint05.rda\"))\n",
    "colnames(seu@meta.data)[10] <- \"blueprint.main\"\n",
    "scConf4 = createConfig(seu)\n",
    "makeShinyFiles(seu, scConf4,\n",
    "             gene.mapping = TRUE,\n",
    "             shiny.prefix = \"sc4\",\n",
    "             shiny.dir = \"amp2_sle_scRNAseq_kidney/\",\n",
    "             gex.assay = \"SCT\")\n",
    "\n",
    "#und   \n",
    "seu =  get(load(file = \"objects/UNDblueprint05.rda\"))\n",
    "colnames(seu@meta.data)[10] <- \"blueprint.main\"\n",
    "scConf5 = createConfig(seu)\n",
    "makeShinyFiles(seu, scConf5,\n",
    "             gene.mapping = TRUE,\n",
    "             shiny.prefix = \"sc11\",\n",
    "             shiny.dir = \"amp2_sle_scRNAseq_kidney/\",\n",
    "             gex.assay = \"SCT\")\n",
    "\n",
    "#pt\n",
    "seu =  get(load(file = \"objects/PTblueprint05.rda\"))\n",
    "colnames(seu@meta.data)[10] <- \"blueprint.main\"\n",
    "scConf6 = createConfig(seu)\n",
    "makeShinyFiles(seu, scConf6,\n",
    "             gene.mapping = TRUE,\n",
    "             shiny.prefix = \"sc6\",\n",
    "             shiny.dir = \"amp2_sle_scRNAseq_kidney/\",\n",
    "             gex.assay = \"SCT\")\n",
    "\n",
    "# All\n",
    "seu =  get(load(file = \"objects/06.rda\"))\n",
    "seu <- SetIdent(seu, value = \"Broad_Cell_Type\")\n",
    "cells <-  c('PT', 'INTL', 'GLOM', 'DN', 'LOH', 'UND')\n",
    "seu <- subset(seu, Broad_Cell_Type  %in%  cells)\n",
    "\n",
    "# Rename\n",
    "seu@meta.data$Stim <- seu@meta.data$Type\n",
    "seu@meta.data$Tissue_Type <- seu@meta.data$broad.group\n",
    "seu@meta.data$Fine_Cell_Type <- seu@meta.data$fine.type\n",
    "seu@meta.data$Broad_Cell_Type <- seu@meta.data$broad.type\n",
    "seu@meta.data$Donor <- gsub(\"AMPSLEkid_cells\", \"Donor\",  obj@meta.data$sample)\n",
    "\n",
    "columns_to_keep <-  c('orig.ident', 'nCount_RNA', 'nFeature_RNA', 'Donor', 'Stim', 'Tissue_Type',\n",
    " 'Fine_Cell_Type', 'Broad_Cell_Type', 'blueprint.main')\n",
    "seu@meta.data <- seu@meta.data[, columns_to_keep, drop = FALSE]\n",
    "\n",
    "# Recluster\n",
    "seu <- RunPCA(seu, npcs = 30, verbose = TRUE)\n",
    "seu <- RunUMAP(seu, reduction = \"pca\", dims = 1:20)\n",
    "seu <- FindNeighbors(seu, reduction = \"pca\", dims = 1:20)\n",
    "seu <- FindClusters(seu, resolution = 0.5)\n",
    "\n",
    "scConf7 = createConfig(seu)\n",
    "makeShinyFiles(seu, scConf7,\n",
    "             gene.mapping = TRUE,\n",
    "             shiny.prefix = \"sc7\",\n",
    "             shiny.dir = \"amp2_sle_scRNAseq_kidney/\",\n",
    "             gex.assay = \"SCT\")\n",
    "\n",
    "makeShinyCodesMulti(\n",
    "  shiny.title = \"AMP Phase II SLE, Structural Cells\", shiny.footnotes = NULL,\n",
    "  shiny.prefix = c(\"sc1\", \"sc2\", \"sc3\", \"sc4\", \"sc5\", \"sc6\", \"sc7\"),\n",
    "  shiny.headers = c(\"Distal Nephron (DN)\", \"Glomerulus (GLOM)\", \"Interstitial (INTL)\", \"Loop of Henle (LOH)\",\n",
    "   \"Undetermined (UND)\", \"Proximal Tube (PT)\", \"All Cells\"), \n",
    "  shiny.dir = \"amp2_sle_scRNAseq_kidney/\") "
   ]
  },
  {
   "cell_type": "code",
   "execution_count": 4,
   "metadata": {
    "vscode": {
     "languageId": "r"
    }
   },
   "outputs": [],
   "source": [
    "# system(\"R -e \\\"shiny::runApp('amp2_sle_scRNAseq_kidney')\\\"\")"
   ]
  }
 ],
 "metadata": {
  "kernelspec": {
   "display_name": "R",
   "language": "R",
   "name": "ir"
  },
  "language_info": {
   "codemirror_mode": "r",
   "file_extension": ".r",
   "mimetype": "text/x-r-source",
   "name": "R",
   "pygments_lexer": "r",
   "version": "4.3.3"
  }
 },
 "nbformat": 4,
 "nbformat_minor": 2
}
